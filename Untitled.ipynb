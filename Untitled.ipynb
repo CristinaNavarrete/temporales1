{
 "cells": [
  {
   "cell_type": "code",
   "execution_count": 1,
   "metadata": {},
   "outputs": [
    {
     "name": "stdout",
     "output_type": "stream",
     "text": [
      "15803\n",
      "['1099.9\\t0.0223']\n"
     ]
    }
   ],
   "source": [
    "import numpy as np\n",
    "import pandas as pd\n",
    "import matplotlib.pyplot as plt\n",
    "import csv\n",
    "lines=[]\n",
    "with open('sinfiltrar.csv', 'r') as f:\n",
    "    wines = list(csv.reader(f, delimiter=' '))\n",
    "    print(len(wines))\n",
    "    print(wines[len(wines)-2])\n",
    "    for i in range(len(wines)):\n",
    "        row=wines[i]\n",
    "        if i%2==0:\n",
    "            lines.append(row)\n",
    "\n",
    "\n",
    "with open('output1.csv', 'w') as writeFile:\n",
    "    writer = csv.writer(writeFile)\n",
    "    writer.writerows(lines)    "
   ]
  },
  {
   "cell_type": "code",
   "execution_count": null,
   "metadata": {},
   "outputs": [],
   "source": [
    "  \n",
    "      \n",
    "    \n",
    "\n",
    "        "
   ]
  },
  {
   "cell_type": "code",
   "execution_count": 7,
   "metadata": {},
   "outputs": [
    {
     "ename": "IndentationError",
     "evalue": "unexpected indent (<ipython-input-7-4a449cd73f43>, line 2)",
     "output_type": "error",
     "traceback": [
      "\u001b[0;36m  File \u001b[0;32m\"<ipython-input-7-4a449cd73f43>\"\u001b[0;36m, line \u001b[0;32m2\u001b[0m\n\u001b[0;31m    str1=str1.replace(\",\",\".\")\u001b[0m\n\u001b[0m    ^\u001b[0m\n\u001b[0;31mIndentationError\u001b[0m\u001b[0;31m:\u001b[0m unexpected indent\n"
     ]
    }
   ],
   "source": [
    "str1=lines[i][0].replace(\"'\",\"\")\n",
    "        str1=str1.replace(\",\",\".\")\n",
    "        num1=float(str1)\n",
    "    \n",
    "        str2=lines[i][1].replace(\"'\",\"\")\n",
    "        str2=str2.replace(\",\",\".\")\n",
    "        num2=float(str2)\n",
    "        \n",
    "        long.append(num1)\n",
    "        absor.append(num2)\n",
    "    \n",
    "   \n",
    "        \n",
    "len(long)    \n",
    "\n",
    "long"
   ]
  },
  {
   "cell_type": "code",
   "execution_count": 59,
   "metadata": {},
   "outputs": [
    {
     "data": {
      "text/plain": [
       "311.2"
      ]
     },
     "execution_count": 59,
     "metadata": {},
     "output_type": "execute_result"
    }
   ],
   "source": [
    "a+1"
   ]
  },
  {
   "cell_type": "code",
   "execution_count": null,
   "metadata": {},
   "outputs": [],
   "source": []
  }
 ],
 "metadata": {
  "kernelspec": {
   "display_name": "Python 3",
   "language": "python",
   "name": "python3"
  },
  "language_info": {
   "codemirror_mode": {
    "name": "ipython",
    "version": 3
   },
   "file_extension": ".py",
   "mimetype": "text/x-python",
   "name": "python",
   "nbconvert_exporter": "python",
   "pygments_lexer": "ipython3",
   "version": "3.7.6"
  }
 },
 "nbformat": 4,
 "nbformat_minor": 4
}
